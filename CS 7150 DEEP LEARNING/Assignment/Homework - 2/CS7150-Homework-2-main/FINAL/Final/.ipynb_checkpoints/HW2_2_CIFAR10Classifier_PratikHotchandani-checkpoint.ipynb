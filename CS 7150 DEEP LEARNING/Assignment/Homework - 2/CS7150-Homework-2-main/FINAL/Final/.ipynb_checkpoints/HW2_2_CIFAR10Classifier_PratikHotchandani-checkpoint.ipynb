{
  "cells": [
    {
      "cell_type": "markdown",
      "id": "0ff28b42",
      "metadata": {
        "id": "0ff28b42"
      },
      "source": [
        "This can be run [run on Google Colab using this link](https://colab.research.google.com/github/CS7150/CS7150-Homework-2/blob/main/HW2_2_CIFAR10Classifier.ipynb)\n",
        "\n",
        "<font size='6'>**Homework 2.2: Neural Network CIFAR-10 Classification**</font>"
      ]
    },
    {
      "cell_type": "markdown",
      "id": "0ef1d8e6",
      "metadata": {
        "id": "0ef1d8e6"
      },
      "source": [
        "<font size='5'>**Overview**</font>\n",
        "\n",
        "In this CS7150 assignment, our objective is to build a neural network featuring two fully-connected layers designed for classification purposes. We will evaluate the performance of this neural network by testing it on the CIFAR-10 dataset.\n",
        "\n",
        "This assignment adheres to a standard classification setup, which encompasses the use of a dataloader to load labeled image data in a natural form and training the model in a minibatch-based fashion.\n",
        "\n",
        "**Your assignment**: Your responsibility throughout this notebook is to thoroughly review the content and address all the conceptual and technical questions identified within the sections marked with \"Task\" headers and \"TODO:\" comments in the code."
      ]
    },
    {
      "cell_type": "markdown",
      "id": "ih2KqUX1Aj1G",
      "metadata": {
        "id": "ih2KqUX1Aj1G"
      },
      "source": [
        "<font size='5'>**I) Setup**</font>"
      ]
    },
    {
      "cell_type": "code",
      "execution_count": 1,
      "id": "1bGxnahJAlmm",
      "metadata": {
        "id": "1bGxnahJAlmm"
      },
      "outputs": [],
      "source": [
        "import os\n",
        "import torch\n",
        "from torch import nn\n",
        "from torchvision.datasets import CIFAR10\n",
        "from torchvision.transforms import Compose, ToTensor\n",
        "from torch.utils.data import DataLoader\n",
        "import matplotlib.pyplot as plt"
      ]
    },
    {
      "cell_type": "markdown",
      "id": "075f340c",
      "metadata": {
        "id": "075f340c"
      },
      "source": [
        "<font size='4'>**Device Setup**</font>"
      ]
    },
    {
      "cell_type": "markdown",
      "id": "33798935",
      "metadata": {
        "id": "33798935"
      },
      "source": [
        "\n",
        "We aim to enable model training on a GPU to expedite our computations. First, we'll check whether torch.cuda is accessible; if it is, we will utilize the GPU; otherwise, we will continue to using the CPU."
      ]
    },
    {
      "cell_type": "code",
      "execution_count": 2,
      "id": "c9a41951",
      "metadata": {
        "colab": {
          "base_uri": "https://localhost:8080/"
        },
        "id": "c9a41951",
        "outputId": "6812a174-3a31-4379-a759-d4b3107a7bb1"
      },
      "outputs": [
        {
          "output_type": "stream",
          "name": "stdout",
          "text": [
            "Using cuda device\n"
          ]
        }
      ],
      "source": [
        "device = \"cuda\" if torch.cuda.is_available() else \"cpu\"\n",
        "print(f\"Using {device} device\")"
      ]
    },
    {
      "cell_type": "markdown",
      "id": "2d6db073",
      "metadata": {
        "id": "2d6db073"
      },
      "source": [
        "<font size='4'>**Loading CIFAR-10 Data**</font>"
      ]
    },
    {
      "cell_type": "markdown",
      "id": "af842fd2",
      "metadata": {
        "id": "af842fd2"
      },
      "source": [
        "The CIFAR-10 dataset comprises a collection of 60,000 32x32 color images distributed across ten distinct classes. These classes correspond to various objects and include airplanes, cars, birds, cats, deer, dogs, frogs, horses, ships, and trucks. Within each class, there are precisely 6,000 images."
      ]
    },
    {
      "cell_type": "code",
      "execution_count": 3,
      "id": "0c9c37c7",
      "metadata": {
        "colab": {
          "base_uri": "https://localhost:8080/"
        },
        "id": "0c9c37c7",
        "outputId": "b797d8b0-2c09-4d84-b550-65f1f2a8c4cd"
      },
      "outputs": [
        {
          "output_type": "stream",
          "name": "stdout",
          "text": [
            "Downloading https://www.cs.toronto.edu/~kriz/cifar-10-python.tar.gz to cifar10_data/cifar-10-python.tar.gz\n"
          ]
        },
        {
          "output_type": "stream",
          "name": "stderr",
          "text": [
            "100%|██████████| 170498071/170498071 [00:02<00:00, 73556934.84it/s]\n"
          ]
        },
        {
          "output_type": "stream",
          "name": "stdout",
          "text": [
            "Extracting cifar10_data/cifar-10-python.tar.gz to cifar10_data\n",
            "Files already downloaded and verified\n",
            "Datatype of the dataset object: <class 'torchvision.datasets.cifar.CIFAR10'>\n",
            "Number of samples in training data: 50000\n",
            "Number of samples in test data: 10000\n",
            "Format of the dataset: \n",
            " Dataset CIFAR10\n",
            "    Number of datapoints: 50000\n",
            "    Root location: cifar10_data\n",
            "    Split: Train\n",
            "    StandardTransform\n",
            "Transform: Compose(\n",
            "               ToTensor()\n",
            "           )\n"
          ]
        }
      ],
      "source": [
        "# downloading cifar10 into folder\n",
        "data_dir = 'cifar10_data' # make sure that this folder is created in your working dir\n",
        "\n",
        "#TODO: Fill out train_data and test_data variables using CIFAR10 (i.e., torchvision.datasets.CIFAR)\n",
        "train_data = CIFAR10(data_dir, train=True, download=True, transform=Compose([ToTensor()]))\n",
        "test_data = CIFAR10(data_dir, train=False, download=True, transform=Compose([ToTensor()]))\n",
        "#train_data = None\n",
        "#test_data = None\n",
        "print(f'Datatype of the dataset object: {type(train_data)}')\n",
        "# check the length of dataset\n",
        "print(f'Number of samples in training data: {len(train_data)}')\n",
        "print(f'Number of samples in test data: {len(test_data)}')\n",
        "# Check the format of dataset\n",
        "print(f'Format of the dataset: \\n {train_data}')"
      ]
    },
    {
      "cell_type": "markdown",
      "id": "507b2b64",
      "metadata": {
        "id": "507b2b64"
      },
      "source": [
        "### <font size='4'>**Displaying Loaded Dataset**</font>"
      ]
    },
    {
      "cell_type": "code",
      "execution_count": 4,
      "id": "22b496c9",
      "metadata": {
        "colab": {
          "base_uri": "https://localhost:8080/",
          "height": 438
        },
        "id": "22b496c9",
        "outputId": "55078bb9-8783-410f-e791-f165d77e5edf"
      },
      "outputs": [
        {
          "output_type": "display_data",
          "data": {
            "text/plain": [
              "<Figure size 640x480 with 6 Axes>"
            ],
            "image/png": "[encoded data removed]"
          },
          "metadata": {}
        }
      ],
      "source": [
        "fig = plt.figure()\n",
        "for i in range(6):\n",
        "  plt.subplot(2, 3, i+1)\n",
        "  plt.tight_layout()\n",
        "  plt.imshow(train_data[i][0][0], cmap='gray', interpolation='none')\n",
        "  plt.title(\"Class Label: {}\".format(train_data[i][1]))\n",
        "  plt.xticks([])\n",
        "  plt.yticks([])"
      ]
    },
    {
      "cell_type": "markdown",
      "id": "f4b11341",
      "metadata": {
        "id": "f4b11341"
      },
      "source": [
        "## <font size='5'>**II) Building a Neural Network**</font>"
      ]
    },
    {
      "cell_type": "markdown",
      "id": "a180f9c7",
      "metadata": {
        "id": "a180f9c7"
      },
      "source": [
        "### <font size='4'>**1) Defining `CIFAR10Classifier` class**</font>"
      ]
    },
    {
      "cell_type": "markdown",
      "id": "003e4e25",
      "metadata": {
        "id": "003e4e25"
      },
      "source": [
        "<font size='4' color='Red'>Task 1.1 - Defining `CIFAR10Classifier` class (4 points)</font>\n",
        "\n",
        "In the following class, make adjustments to the following attributes: flatten, hidden_size, class_size, and linear_relu_stack. Ensure that the linear_relu_stack consists of a minimum of two linear layers combined with a non-linear activation layer."
      ]
    },
    {
      "cell_type": "code",
      "execution_count": 5,
      "id": "bd2c5289",
      "metadata": {
        "id": "bd2c5289"
      },
      "outputs": [],
      "source": [
        "class CIFAR10Classifier(nn.Module):\n",
        "    def __init__(self):\n",
        "        super(CIFAR10Classifier, self).__init__()\n",
        "        ########################################################################\n",
        "        # TODO: Complete the following variables as instructed earlier\n",
        "        ########################################################################\n",
        "        self.flatten = nn.Flatten()\n",
        "        self.hidden_size = 512 #2**11\n",
        "        self.class_size = 10\n",
        "        self.linear_relu_stack = nn.Sequential(\n",
        "            nn.Linear(train_data[0][0].flatten().shape[0], self.hidden_size),\n",
        "            nn.LeakyReLU(),\n",
        "            nn.Linear(self.hidden_size, self.hidden_size),\n",
        "            nn.LeakyReLU(),\n",
        "            nn.Linear(self.hidden_size, self.hidden_size),\n",
        "            nn.LeakyReLU(),\n",
        "            nn.Linear(self.hidden_size, self.class_size)\n",
        "        )\n",
        "        ########################################################################\n",
        "        #                             END OF YOUR CODE                         #\n",
        "        ########################################################################\n",
        "\n",
        "    def forward(self, x):\n",
        "        x = self.flatten(x)\n",
        "        logits = self.linear_relu_stack(x)\n",
        "        return logits"
      ]
    },
    {
      "cell_type": "markdown",
      "id": "720bfbd5",
      "metadata": {
        "id": "720bfbd5"
      },
      "source": [
        "### <font size='4'>**2) Training a Neural Network**</font>"
      ]
    },
    {
      "cell_type": "markdown",
      "id": "fU8M2hZKKIqf",
      "metadata": {
        "id": "fU8M2hZKKIqf"
      },
      "source": [
        "<font size='4' color='Red'>Task 1.2 - Defining parameters (3 points)</font>"
      ]
    },
    {
      "cell_type": "markdown",
      "id": "nWQyEYmrDSV3",
      "metadata": {
        "id": "nWQyEYmrDSV3"
      },
      "source": [
        "Let's create an instance of `CIFAR10Classifier` and move it to the device. After doing so, we define the following hyperparameters for training:\n",
        "\n",
        "- **Number of Epochs**: This signifies the number of iterations over the dataset.\n",
        "- **Batch Size**: It represents the number of data samples that propagate through the network before parameter updates.\n",
        "- **Learning Rate**: This parameter determines the extent of model parameter updates during each batch/epoch. Smaller values lead to slower learning, while larger values may introduce instability during training.\n",
        "\n",
        "**Your Task**:\n",
        "\n",
        "1. Set `learning_rate` to 1e-3, `batch_size` to 64, and `epochs` to 10 initially. Experiment with different values and retain the final choices that yield the highest testing accuracy.\n",
        "\n",
        "2. Select an appropriate loss function. You should experiment with different options, such as `CrossEntropyLoss()`, `MSELoss()`, and any others, and choose the one that best suits the task.\n",
        "\n",
        "3. Define the `optimizer` variable using any optimizer function (e.g., SGD, Adam, etc.). Be sure to explore different parameter values within the chosen optimizer function.\n",
        "\n",
        "4. Remember to record your ultimate choices for each variable that contribute to achieving the best performance for your `CIFAR10Classifier`. To receive full credit for this assignment, your model should attain a classification accuracy of over 50% on the test set."
      ]
    },
    {
      "cell_type": "code",
      "execution_count": 6,
      "id": "WSTgaNxI9c5f",
      "metadata": {
        "id": "WSTgaNxI9c5f"
      },
      "outputs": [],
      "source": [
        "import torch.optim as optim\n",
        "\n",
        "\n",
        "model = CIFAR10Classifier().to(device)\n",
        "model.requires_grad_(True)\n",
        "\n",
        "########################################################################\n",
        "# TODO: Complete the following variables as instructed earlier\n",
        "########################################################################\n",
        "\n",
        "learning_rate = 1e-3\n",
        "batch_size = 64\n",
        "epochs = 20\n",
        "loss_fn = nn.CrossEntropyLoss()\n",
        "optimizer = optim.SGD(\n",
        "    model.parameters(),\n",
        "    lr=learning_rate,\n",
        "    weight_decay=1e-4,  # You can adjust this weight decay value as needed\n",
        "    momentum=0.9,       # You can adjust this momentum value as needed\n",
        ")\n",
        "\n",
        "\n",
        "########################################################################\n",
        "#                             END OF YOUR CODE                         #\n",
        "########################################################################"
      ]
    },
    {
      "cell_type": "markdown",
      "id": "556ce020",
      "metadata": {
        "id": "556ce020"
      },
      "source": [
        "### <font size='4'>**3) Train Loop**</font>"
      ]
    },
    {
      "cell_type": "code",
      "execution_count": 7,
      "id": "0cf5e0b8",
      "metadata": {
        "id": "0cf5e0b8"
      },
      "outputs": [],
      "source": [
        "train_dataloader = DataLoader(train_data, batch_size=batch_size)\n",
        "test_dataloader = DataLoader(test_data, batch_size=batch_size)"
      ]
    },
    {
      "cell_type": "markdown",
      "id": "a43130c9",
      "metadata": {
        "id": "a43130c9"
      },
      "source": [
        "In the above cell, we used a Dataloader to create batches for training and testing data. For each batch of size indicated in the batch_size hyperparameter, we perform backprop and update the model parameters' weights and biases.\n",
        "\n",
        "In the following cell, we define our train_loop."
      ]
    },
    {
      "cell_type": "code",
      "execution_count": 8,
      "id": "fa4eeed5",
      "metadata": {
        "id": "fa4eeed5"
      },
      "outputs": [],
      "source": [
        "def train_loop(dataloader, model, loss_fn, optimizer, print_log=True):\n",
        "    size = len(dataloader.dataset)\n",
        "    correct = 0\n",
        "    training_acc = 0\n",
        "    training_loss = 0\n",
        "    for batch, (X, y) in enumerate(dataloader):\n",
        "        # Compute prediction and loss\n",
        "        pred = model(X.to(device))\n",
        "        loss = loss_fn(pred, y.to(device))\n",
        "        correct += (pred.argmax(1) == y.to(device)).type(torch.float).sum().item()\n",
        "\n",
        "        # Backpropagation\n",
        "        optimizer.zero_grad()\n",
        "        loss.backward()\n",
        "        optimizer.step()\n",
        "        if (print_log==True) and (batch % 100 == 0):\n",
        "            loss, current = loss.item(), batch * len(X)\n",
        "            training_loss = loss\n",
        "            print(f\"\"\"Training loop: loss: {loss:>7f}  [{current:>5d}/{size:>5d}]\"\"\")\n",
        "    if (print_log==True):\n",
        "        correct /= size\n",
        "        training_acc = 100*correct\n",
        "        print(f\"\"\"Training Accuracy: {training_acc:>0.1f}%\"\"\")\n",
        "    return training_acc, training_loss"
      ]
    },
    {
      "cell_type": "markdown",
      "id": "2b6072ee",
      "metadata": {
        "id": "2b6072ee"
      },
      "source": [
        "### <font size='4'>**4) Test Loop**</font>"
      ]
    },
    {
      "cell_type": "markdown",
      "id": "ba22bb45",
      "metadata": {
        "id": "ba22bb45"
      },
      "source": [
        "In the test loop, we iterate over the test dataset to check if model performance is improving."
      ]
    },
    {
      "cell_type": "code",
      "execution_count": 9,
      "id": "a05d6353",
      "metadata": {
        "id": "a05d6353"
      },
      "outputs": [],
      "source": [
        "def test_loop(dataloader, model, loss_fn, print_log=True):\n",
        "    size = len(dataloader.dataset)\n",
        "    num_batches = len(dataloader)\n",
        "    test_loss, correct = 0, 0\n",
        "\n",
        "    with torch.no_grad():\n",
        "        for X, y in dataloader:\n",
        "            pred = model(X.to(device))\n",
        "            test_loss += loss_fn(pred, y.to(device)).item()\n",
        "            correct += (pred.argmax(1) == y.to(device)).type(torch.float).sum().item()\n",
        "\n",
        "    test_loss /= num_batches\n",
        "    correct /= size\n",
        "    testing_acc = 100*correct\n",
        "    if (print_log==True):\n",
        "        print(f\"Testing Accuracy: {testing_acc:>0.1f}%, Avg loss: {test_loss:>8f} \\n\")\n",
        "    return testing_acc, test_loss"
      ]
    },
    {
      "cell_type": "markdown",
      "id": "d10b7c82",
      "metadata": {
        "id": "d10b7c82"
      },
      "source": [
        "### <font size='4'>**5) Running the loops**</font>"
      ]
    },
    {
      "cell_type": "markdown",
      "id": "4245bd36",
      "metadata": {
        "id": "4245bd36"
      },
      "source": [
        "We run our loops for a certain number of times, which is indicated in the 'epoch' hyperparameter that we defined earlier. In the following cell, we run both our training and testing loop to see how our training and testing accuracies change over time."
      ]
    },
    {
      "cell_type": "code",
      "execution_count": 10,
      "id": "836fc7f0",
      "metadata": {
        "colab": {
          "base_uri": "https://localhost:8080/"
        },
        "id": "836fc7f0",
        "outputId": "07976cd7-58ef-4615-c98b-1fe3a7d3a360"
      },
      "outputs": [
        {
          "output_type": "stream",
          "name": "stdout",
          "text": [
            "Epoch 1\n",
            "-------------------------------\n",
            "Training loop: loss: 2.297913  [    0/50000]\n",
            "Training loop: loss: 2.301686  [ 6400/50000]\n",
            "Training loop: loss: 2.273981  [12800/50000]\n",
            "Training loop: loss: 2.275557  [19200/50000]\n",
            "Training loop: loss: 2.230364  [25600/50000]\n",
            "Training loop: loss: 2.182046  [32000/50000]\n",
            "Training loop: loss: 2.198009  [38400/50000]\n",
            "Training loop: loss: 2.072427  [44800/50000]\n",
            "Training Accuracy: 17.0%\n",
            "Testing Accuracy: 24.2%, Avg loss: 2.060323 \n",
            "\n",
            "Epoch 2\n",
            "-------------------------------\n",
            "Training loop: loss: 2.133903  [    0/50000]\n",
            "Training loop: loss: 2.096120  [ 6400/50000]\n",
            "Training loop: loss: 1.901170  [12800/50000]\n",
            "Training loop: loss: 2.061179  [19200/50000]\n",
            "Training loop: loss: 2.066974  [25600/50000]\n",
            "Training loop: loss: 2.021337  [32000/50000]\n",
            "Training loop: loss: 2.081295  [38400/50000]\n",
            "Training loop: loss: 1.881486  [44800/50000]\n",
            "Training Accuracy: 27.8%\n",
            "Testing Accuracy: 30.4%, Avg loss: 1.913313 \n",
            "\n",
            "Epoch 3\n",
            "-------------------------------\n",
            "Training loop: loss: 1.986042  [    0/50000]\n",
            "Training loop: loss: 1.961561  [ 6400/50000]\n",
            "Training loop: loss: 1.696110  [12800/50000]\n",
            "Training loop: loss: 1.956906  [19200/50000]\n",
            "Training loop: loss: 1.941233  [25600/50000]\n",
            "Training loop: loss: 1.948240  [32000/50000]\n",
            "Training loop: loss: 1.980371  [38400/50000]\n",
            "Training loop: loss: 1.781505  [44800/50000]\n",
            "Training Accuracy: 32.6%\n",
            "Testing Accuracy: 34.4%, Avg loss: 1.834466 \n",
            "\n",
            "Epoch 4\n",
            "-------------------------------\n",
            "Training loop: loss: 1.855737  [    0/50000]\n",
            "Training loop: loss: 1.838534  [ 6400/50000]\n",
            "Training loop: loss: 1.590866  [12800/50000]\n",
            "Training loop: loss: 1.880808  [19200/50000]\n",
            "Training loop: loss: 1.855116  [25600/50000]\n",
            "Training loop: loss: 1.878268  [32000/50000]\n",
            "Training loop: loss: 1.908840  [38400/50000]\n",
            "Training loop: loss: 1.705567  [44800/50000]\n",
            "Training Accuracy: 35.3%\n",
            "Testing Accuracy: 36.0%, Avg loss: 1.773978 \n",
            "\n",
            "Epoch 5\n",
            "-------------------------------\n",
            "Training loop: loss: 1.777261  [    0/50000]\n",
            "Training loop: loss: 1.742436  [ 6400/50000]\n",
            "Training loop: loss: 1.521718  [12800/50000]\n",
            "Training loop: loss: 1.787756  [19200/50000]\n",
            "Training loop: loss: 1.785735  [25600/50000]\n",
            "Training loop: loss: 1.814591  [32000/50000]\n",
            "Training loop: loss: 1.846896  [38400/50000]\n",
            "Training loop: loss: 1.652885  [44800/50000]\n",
            "Training Accuracy: 37.3%\n",
            "Testing Accuracy: 38.3%, Avg loss: 1.715324 \n",
            "\n",
            "Epoch 6\n",
            "-------------------------------\n",
            "Training loop: loss: 1.709102  [    0/50000]\n",
            "Training loop: loss: 1.700877  [ 6400/50000]\n",
            "Training loop: loss: 1.466068  [12800/50000]\n",
            "Training loop: loss: 1.737719  [19200/50000]\n",
            "Training loop: loss: 1.725488  [25600/50000]\n",
            "Training loop: loss: 1.779536  [32000/50000]\n",
            "Training loop: loss: 1.802488  [38400/50000]\n",
            "Training loop: loss: 1.609634  [44800/50000]\n",
            "Training Accuracy: 38.9%\n",
            "Testing Accuracy: 39.9%, Avg loss: 1.668934 \n",
            "\n",
            "Epoch 7\n",
            "-------------------------------\n",
            "Training loop: loss: 1.664458  [    0/50000]\n",
            "Training loop: loss: 1.680104  [ 6400/50000]\n",
            "Training loop: loss: 1.422239  [12800/50000]\n",
            "Training loop: loss: 1.703063  [19200/50000]\n",
            "Training loop: loss: 1.680801  [25600/50000]\n",
            "Training loop: loss: 1.747660  [32000/50000]\n",
            "Training loop: loss: 1.763552  [38400/50000]\n",
            "Training loop: loss: 1.572145  [44800/50000]\n",
            "Training Accuracy: 40.5%\n",
            "Testing Accuracy: 41.3%, Avg loss: 1.635495 \n",
            "\n",
            "Epoch 8\n",
            "-------------------------------\n",
            "Training loop: loss: 1.642720  [    0/50000]\n",
            "Training loop: loss: 1.655972  [ 6400/50000]\n",
            "Training loop: loss: 1.373653  [12800/50000]\n",
            "Training loop: loss: 1.675866  [19200/50000]\n",
            "Training loop: loss: 1.633995  [25600/50000]\n",
            "Training loop: loss: 1.717046  [32000/50000]\n",
            "Training loop: loss: 1.738161  [38400/50000]\n",
            "Training loop: loss: 1.535434  [44800/50000]\n",
            "Training Accuracy: 42.0%\n",
            "Testing Accuracy: 42.3%, Avg loss: 1.604576 \n",
            "\n",
            "Epoch 9\n",
            "-------------------------------\n",
            "Training loop: loss: 1.620773  [    0/50000]\n",
            "Training loop: loss: 1.623697  [ 6400/50000]\n",
            "Training loop: loss: 1.332457  [12800/50000]\n",
            "Training loop: loss: 1.661078  [19200/50000]\n",
            "Training loop: loss: 1.597984  [25600/50000]\n",
            "Training loop: loss: 1.689002  [32000/50000]\n",
            "Training loop: loss: 1.700088  [38400/50000]\n",
            "Training loop: loss: 1.504973  [44800/50000]\n",
            "Training Accuracy: 43.5%\n",
            "Testing Accuracy: 43.7%, Avg loss: 1.573146 \n",
            "\n",
            "Epoch 10\n",
            "-------------------------------\n",
            "Training loop: loss: 1.600163  [    0/50000]\n",
            "Training loop: loss: 1.582424  [ 6400/50000]\n",
            "Training loop: loss: 1.307201  [12800/50000]\n",
            "Training loop: loss: 1.656577  [19200/50000]\n",
            "Training loop: loss: 1.566268  [25600/50000]\n",
            "Training loop: loss: 1.649859  [32000/50000]\n",
            "Training loop: loss: 1.664444  [38400/50000]\n",
            "Training loop: loss: 1.472999  [44800/50000]\n",
            "Training Accuracy: 44.8%\n",
            "Testing Accuracy: 44.6%, Avg loss: 1.547188 \n",
            "\n",
            "Epoch 11\n",
            "-------------------------------\n",
            "Training loop: loss: 1.581128  [    0/50000]\n",
            "Training loop: loss: 1.548122  [ 6400/50000]\n",
            "Training loop: loss: 1.290525  [12800/50000]\n",
            "Training loop: loss: 1.628404  [19200/50000]\n",
            "Training loop: loss: 1.536012  [25600/50000]\n",
            "Training loop: loss: 1.619516  [32000/50000]\n",
            "Training loop: loss: 1.639062  [38400/50000]\n",
            "Training loop: loss: 1.449809  [44800/50000]\n",
            "Training Accuracy: 45.9%\n",
            "Testing Accuracy: 45.5%, Avg loss: 1.524282 \n",
            "\n",
            "Epoch 12\n",
            "-------------------------------\n",
            "Training loop: loss: 1.563860  [    0/50000]\n",
            "Training loop: loss: 1.495642  [ 6400/50000]\n",
            "Training loop: loss: 1.288100  [12800/50000]\n",
            "Training loop: loss: 1.604972  [19200/50000]\n",
            "Training loop: loss: 1.516591  [25600/50000]\n",
            "Training loop: loss: 1.584406  [32000/50000]\n",
            "Training loop: loss: 1.624656  [38400/50000]\n",
            "Training loop: loss: 1.421102  [44800/50000]\n",
            "Training Accuracy: 47.0%\n",
            "Testing Accuracy: 46.4%, Avg loss: 1.503545 \n",
            "\n",
            "Epoch 13\n",
            "-------------------------------\n",
            "Training loop: loss: 1.547869  [    0/50000]\n",
            "Training loop: loss: 1.466371  [ 6400/50000]\n",
            "Training loop: loss: 1.277175  [12800/50000]\n",
            "Training loop: loss: 1.586205  [19200/50000]\n",
            "Training loop: loss: 1.477977  [25600/50000]\n",
            "Training loop: loss: 1.555147  [32000/50000]\n",
            "Training loop: loss: 1.593292  [38400/50000]\n",
            "Training loop: loss: 1.407846  [44800/50000]\n",
            "Training Accuracy: 47.9%\n",
            "Testing Accuracy: 47.2%, Avg loss: 1.486199 \n",
            "\n",
            "Epoch 14\n",
            "-------------------------------\n",
            "Training loop: loss: 1.531438  [    0/50000]\n",
            "Training loop: loss: 1.443114  [ 6400/50000]\n",
            "Training loop: loss: 1.267429  [12800/50000]\n",
            "Training loop: loss: 1.561682  [19200/50000]\n",
            "Training loop: loss: 1.453670  [25600/50000]\n",
            "Training loop: loss: 1.536485  [32000/50000]\n",
            "Training loop: loss: 1.580039  [38400/50000]\n",
            "Training loop: loss: 1.387494  [44800/50000]\n",
            "Training Accuracy: 48.8%\n",
            "Testing Accuracy: 47.6%, Avg loss: 1.471619 \n",
            "\n",
            "Epoch 15\n",
            "-------------------------------\n",
            "Training loop: loss: 1.514022  [    0/50000]\n",
            "Training loop: loss: 1.418079  [ 6400/50000]\n",
            "Training loop: loss: 1.256981  [12800/50000]\n",
            "Training loop: loss: 1.540231  [19200/50000]\n",
            "Training loop: loss: 1.429698  [25600/50000]\n",
            "Training loop: loss: 1.509763  [32000/50000]\n",
            "Training loop: loss: 1.581822  [38400/50000]\n",
            "Training loop: loss: 1.380575  [44800/50000]\n",
            "Training Accuracy: 49.6%\n",
            "Testing Accuracy: 48.5%, Avg loss: 1.452030 \n",
            "\n",
            "Epoch 16\n",
            "-------------------------------\n",
            "Training loop: loss: 1.484385  [    0/50000]\n",
            "Training loop: loss: 1.407105  [ 6400/50000]\n",
            "Training loop: loss: 1.234984  [12800/50000]\n",
            "Training loop: loss: 1.509761  [19200/50000]\n",
            "Training loop: loss: 1.400138  [25600/50000]\n",
            "Training loop: loss: 1.488005  [32000/50000]\n",
            "Training loop: loss: 1.537356  [38400/50000]\n",
            "Training loop: loss: 1.363973  [44800/50000]\n",
            "Training Accuracy: 50.5%\n",
            "Testing Accuracy: 49.2%, Avg loss: 1.431908 \n",
            "\n",
            "Epoch 17\n",
            "-------------------------------\n",
            "Training loop: loss: 1.453498  [    0/50000]\n",
            "Training loop: loss: 1.390379  [ 6400/50000]\n",
            "Training loop: loss: 1.238390  [12800/50000]\n",
            "Training loop: loss: 1.486135  [19200/50000]\n",
            "Training loop: loss: 1.368030  [25600/50000]\n",
            "Training loop: loss: 1.484733  [32000/50000]\n",
            "Training loop: loss: 1.519023  [38400/50000]\n",
            "Training loop: loss: 1.355293  [44800/50000]\n",
            "Training Accuracy: 51.3%\n",
            "Testing Accuracy: 49.8%, Avg loss: 1.416902 \n",
            "\n",
            "Epoch 18\n",
            "-------------------------------\n",
            "Training loop: loss: 1.436475  [    0/50000]\n",
            "Training loop: loss: 1.363725  [ 6400/50000]\n",
            "Training loop: loss: 1.218240  [12800/50000]\n",
            "Training loop: loss: 1.483539  [19200/50000]\n",
            "Training loop: loss: 1.343175  [25600/50000]\n",
            "Training loop: loss: 1.484607  [32000/50000]\n",
            "Training loop: loss: 1.483865  [38400/50000]\n",
            "Training loop: loss: 1.325962  [44800/50000]\n",
            "Training Accuracy: 52.0%\n",
            "Testing Accuracy: 50.2%, Avg loss: 1.404699 \n",
            "\n",
            "Epoch 19\n",
            "-------------------------------\n",
            "Training loop: loss: 1.414425  [    0/50000]\n",
            "Training loop: loss: 1.350351  [ 6400/50000]\n",
            "Training loop: loss: 1.208599  [12800/50000]\n",
            "Training loop: loss: 1.450820  [19200/50000]\n",
            "Training loop: loss: 1.323967  [25600/50000]\n",
            "Training loop: loss: 1.453157  [32000/50000]\n",
            "Training loop: loss: 1.457235  [38400/50000]\n",
            "Training loop: loss: 1.318138  [44800/50000]\n",
            "Training Accuracy: 52.6%\n",
            "Testing Accuracy: 51.2%, Avg loss: 1.387307 \n",
            "\n",
            "Epoch 20\n",
            "-------------------------------\n",
            "Training loop: loss: 1.385564  [    0/50000]\n",
            "Training loop: loss: 1.332500  [ 6400/50000]\n",
            "Training loop: loss: 1.216414  [12800/50000]\n",
            "Training loop: loss: 1.451618  [19200/50000]\n",
            "Training loop: loss: 1.302922  [25600/50000]\n",
            "Training loop: loss: 1.435877  [32000/50000]\n",
            "Training loop: loss: 1.447763  [38400/50000]\n",
            "Training loop: loss: 1.304818  [44800/50000]\n",
            "Training Accuracy: 53.2%\n",
            "Testing Accuracy: 51.6%, Avg loss: 1.376731 \n",
            "\n",
            "Done!\n"
          ]
        }
      ],
      "source": [
        "for t in range(epochs):\n",
        "    print(f\"Epoch {t+1}\\n-------------------------------\")\n",
        "    train_loop(train_dataloader, model, loss_fn, optimizer)\n",
        "    test_loop(test_dataloader, model, loss_fn)\n",
        "print(\"Done!\")"
      ]
    },
    {
      "cell_type": "markdown",
      "id": "9d2ca7b1",
      "metadata": {
        "id": "9d2ca7b1"
      },
      "source": [
        "## <font size='5'>**III) Fine Tuning Hyperparameters**</font>"
      ]
    },
    {
      "cell_type": "markdown",
      "id": "vtmexjmGFYTR",
      "metadata": {
        "id": "vtmexjmGFYTR"
      },
      "source": [
        "Adjusting the hyperparameters and gaining a deeper understanding of how they impact the ultimate performance is a substantial aspect of working with neural networks. Therefore, we encourage you to gain practical experience in this regard."
      ]
    },
    {
      "cell_type": "markdown",
      "id": "7f79ae32",
      "metadata": {
        "id": "7f79ae32"
      },
      "source": [
        "In this task, your goal is to play around with different settings for various options like layer size, batch size, learning rate. You should also experiment with optimizer hyperparameters including momentum, weight decay and more.\n",
        "\n",
        "To understand how these choices affect your model's performance, you'll create at least three graphs. Each graph will show how changing one of these options (except for epochs) impacts how well your model learns and predicts."
      ]
    },
    {
      "cell_type": "markdown",
      "id": "x719wW9FIynX",
      "metadata": {
        "id": "x719wW9FIynX"
      },
      "source": [
        "## <font size='4'>**Example** - We've given you an example code for changing number of epochs so you can see how it's done.</font>"
      ]
    },
    {
      "cell_type": "code",
      "execution_count": 12,
      "id": "olcxRr7T8bpj",
      "metadata": {
        "id": "olcxRr7T8bpj",
        "colab": {
          "base_uri": "https://localhost:8080/",
          "height": 1000
        },
        "outputId": "4c0b1703-282a-4736-f53c-a835b05c132a"
      },
      "outputs": [
        {
          "output_type": "stream",
          "name": "stdout",
          "text": [
            "Currently running epoch 1\n",
            "Currently running epoch 1\n",
            "Currently running epoch 2\n",
            "Currently running epoch 3\n",
            "Currently running epoch 4\n",
            "Currently running epoch 5\n",
            "Currently running epoch 1\n",
            "Currently running epoch 2\n",
            "Currently running epoch 3\n",
            "Currently running epoch 4\n",
            "Currently running epoch 5\n",
            "Currently running epoch 6\n",
            "Currently running epoch 7\n",
            "Currently running epoch 8\n",
            "Currently running epoch 9\n",
            "Currently running epoch 10\n",
            "Currently running epoch 1\n",
            "Currently running epoch 2\n",
            "Currently running epoch 3\n",
            "Currently running epoch 4\n",
            "Currently running epoch 5\n",
            "Currently running epoch 6\n",
            "Currently running epoch 7\n",
            "Currently running epoch 8\n",
            "Currently running epoch 9\n",
            "Currently running epoch 10\n",
            "Currently running epoch 11\n",
            "Currently running epoch 12\n",
            "Currently running epoch 13\n",
            "Currently running epoch 14\n",
            "Currently running epoch 15\n",
            "Currently running epoch 1\n",
            "Currently running epoch 2\n",
            "Currently running epoch 3\n",
            "Currently running epoch 4\n",
            "Currently running epoch 5\n",
            "Currently running epoch 6\n",
            "Currently running epoch 7\n",
            "Currently running epoch 8\n",
            "Currently running epoch 9\n",
            "Currently running epoch 10\n",
            "Currently running epoch 11\n",
            "Currently running epoch 12\n",
            "Currently running epoch 13\n",
            "Currently running epoch 14\n",
            "Currently running epoch 15\n",
            "Currently running epoch 16\n",
            "Currently running epoch 17\n",
            "Currently running epoch 18\n",
            "Currently running epoch 19\n",
            "Currently running epoch 20\n",
            "Currently running epoch 1\n",
            "Currently running epoch 2\n",
            "Currently running epoch 3\n",
            "Currently running epoch 4\n",
            "Currently running epoch 5\n",
            "Currently running epoch 6\n",
            "Currently running epoch 7\n",
            "Currently running epoch 8\n",
            "Currently running epoch 9\n",
            "Currently running epoch 10\n",
            "Currently running epoch 11\n",
            "Currently running epoch 12\n",
            "Currently running epoch 13\n",
            "Currently running epoch 14\n",
            "Currently running epoch 15\n",
            "Currently running epoch 16\n",
            "Currently running epoch 17\n",
            "Currently running epoch 18\n",
            "Currently running epoch 19\n",
            "Currently running epoch 20\n",
            "Currently running epoch 21\n",
            "Currently running epoch 22\n",
            "Currently running epoch 23\n",
            "Currently running epoch 24\n",
            "Currently running epoch 25\n",
            "Done!\n"
          ]
        },
        {
          "output_type": "display_data",
          "data": {
            "text/plain": [
              "<Figure size 640x480 with 1 Axes>"
            ],
            "image/png": "[encoded data removed]"
          },
          "metadata": {}
        }
      ],
      "source": [
        "learning_rate = 1e-3\n",
        "batch_size = 64\n",
        "epochs = [1, 5, 10, 15, 20, 25]\n",
        "momentum = 0\n",
        "weight_decay = 0\n",
        "dampening = 0\n",
        "\n",
        "# Train and Test\n",
        "test_accs = []\n",
        "test_losses = []\n",
        "training_accs = []\n",
        "for e in epochs: #Would change this to reflect whatever hyperparameter you would be testing\n",
        "    # Model\n",
        "    model = CIFAR10Classifier().to(device)\n",
        "    model.requires_grad_(True)\n",
        "    # Optimizer\n",
        "    optimizer = torch.optim.SGD(model.parameters(),\n",
        "                            lr = learning_rate,\n",
        "                            momentum = momentum,\n",
        "                            weight_decay = weight_decay,\n",
        "                            dampening= dampening)\n",
        "    # Loss Func\n",
        "    loss_fn = nn.CrossEntropyLoss()\n",
        "    # Dataloaders\n",
        "    train_dataloader = DataLoader(train_data, batch_size=batch_size)\n",
        "    test_dataloader = DataLoader(test_data, batch_size=batch_size)\n",
        "    final_train_acc = 0\n",
        "    final_test_acc = 0\n",
        "    final_test_loss = 0\n",
        "    for t in range(e):\n",
        "        print(f\"Currently running epoch {t+1}\")\n",
        "        training_acc = train_loop(train_dataloader, model, loss_fn, optimizer, print_log=False)\n",
        "        testing_acc, test_loss =  test_loop(test_dataloader, model, loss_fn, print_log=False)\n",
        "        final_test_acc = testing_acc\n",
        "        final_test_loss = test_loss\n",
        "        final_train_acc = training_acc\n",
        "    test_accs.append(final_test_acc)\n",
        "    test_losses.append(final_test_loss)\n",
        "    training_accs.append(final_train_acc)\n",
        "plt.plot(epochs,test_losses, color ='tab:red', label='testing loss')\n",
        "plt.plot(epochs,test_accs, color ='tab:blue', label='testing accuracy')\n",
        "plt.plot(epochs,training_accs, color ='tab:green', label='training accuracy')\n",
        "plt.legend()\n",
        "print(\"Done!\")\n"
      ]
    },
    {
      "cell_type": "markdown",
      "id": "w7Zi1npqHU7B",
      "metadata": {
        "id": "w7Zi1npqHU7B"
      },
      "source": [
        "<font size='4' color='Red'>Task 1.3 - Experiment 1 (2 point)</font>"
      ]
    },
    {
      "cell_type": "markdown",
      "id": "cd5IJznoH60y",
      "metadata": {
        "id": "cd5IJznoH60y"
      },
      "source": [
        "$$\\text{I am tuning \"Learning Rate\" hyperparameter for better performance}$$"
      ]
    },
    {
      "cell_type": "code",
      "execution_count": 13,
      "id": "9Fkd6usOHP0c",
      "metadata": {
        "id": "9Fkd6usOHP0c",
        "colab": {
          "base_uri": "https://localhost:8080/",
          "height": 894
        },
        "outputId": "9a090b00-a225-4cbd-e621-9e10905f3240"
      },
      "outputs": [
        {
          "output_type": "stream",
          "name": "stdout",
          "text": [
            "Currently running epoch:  1\n",
            "Currently running epoch:  2\n",
            "Currently running epoch:  3\n",
            "Currently running epoch:  4\n",
            "Currently running epoch:  5\n",
            "Currently running epoch:  1\n",
            "Currently running epoch:  2\n",
            "Currently running epoch:  3\n",
            "Currently running epoch:  4\n",
            "Currently running epoch:  5\n",
            "Currently running epoch:  1\n",
            "Currently running epoch:  2\n",
            "Currently running epoch:  3\n",
            "Currently running epoch:  4\n",
            "Currently running epoch:  5\n",
            "Currently running epoch:  1\n",
            "Currently running epoch:  2\n",
            "Currently running epoch:  3\n",
            "Currently running epoch:  4\n",
            "Currently running epoch:  5\n",
            "Currently running epoch:  1\n",
            "Currently running epoch:  2\n",
            "Currently running epoch:  3\n",
            "Currently running epoch:  4\n",
            "Currently running epoch:  5\n",
            "Done!\n"
          ]
        },
        {
          "output_type": "display_data",
          "data": {
            "text/plain": [
              "<Figure size 640x480 with 1 Axes>"
            ],
            "image/png": "[encoded data removed]"
          },
          "metadata": {}
        }
      ],
      "source": [
        "############################################################################\n",
        "# TODO: Implement your code here\n",
        "############################################################################\n",
        "learning_rate = [1e-7,1e-4,1e-3,1e-2,1e-1]\n",
        "batch_size = 64\n",
        "epochs = 5\n",
        "momentum = 0\n",
        "weight_decay = 0\n",
        "dampening = 0\n",
        "\n",
        "# Train and Test\n",
        "test_accs = []\n",
        "test_losses = []\n",
        "training_accs = []\n",
        "\n",
        "for e in learning_rate: #Would change this to reflect whatever hyperparameter you would be testing\n",
        "    # Model\n",
        "    model = CIFAR10Classifier().to(device)\n",
        "    model.requires_grad_(True)\n",
        "    # Optimizer\n",
        "    optimizer = torch.optim.SGD(model.parameters(),\n",
        "                            lr = e,\n",
        "                            momentum = momentum,\n",
        "                            weight_decay = weight_decay,\n",
        "                            dampening= dampening)\n",
        "    # Loss Func\n",
        "    loss_fn = nn.CrossEntropyLoss()\n",
        "    # Dataloaders\n",
        "    train_dataloader = DataLoader(train_data, batch_size=batch_size)\n",
        "    test_dataloader = DataLoader(test_data, batch_size=batch_size)\n",
        "    final_train_acc = 0\n",
        "    final_test_acc = 0\n",
        "    final_test_loss = 0\n",
        "\n",
        "\n",
        "    for t in range(epochs):\n",
        "        print(f\"Currently running epoch: \", t+1)\n",
        "        training_acc = train_loop(train_dataloader, model, loss_fn, optimizer, print_log=False)\n",
        "        testing_acc, test_loss =  test_loop(test_dataloader, model, loss_fn, print_log=False)\n",
        "        final_test_acc = testing_acc\n",
        "        final_test_loss = test_loss\n",
        "        final_train_acc = training_acc\n",
        "\n",
        "\n",
        "    test_accs.append(final_test_acc)\n",
        "    test_losses.append(final_test_loss)\n",
        "    training_accs.append(final_train_acc)\n",
        "\n",
        "\n",
        "plt.plot(learning_rate,test_losses, color ='tab:red', label='testing loss')\n",
        "plt.plot(learning_rate,test_accs, color ='tab:blue', label='testing accuracy')\n",
        "plt.plot(learning_rate,training_accs, color ='tab:green', label='training accuracy')\n",
        "plt.legend()\n",
        "print(\"Done!\")\n",
        "\n",
        "\n",
        "############################################################################\n",
        "#                             END OF YOUR CODE                             #\n",
        "############################################################################"
      ]
    },
    {
      "cell_type": "markdown",
      "id": "qnsKis_dLoGW",
      "metadata": {
        "id": "qnsKis_dLoGW"
      },
      "source": []
    },
    {
      "cell_type": "markdown",
      "id": "bCXoR1dtIVqE",
      "metadata": {
        "id": "bCXoR1dtIVqE"
      },
      "source": [
        "<font size='4' color='Red'>Task 1.3 - Experiment 2 (2 point)</font>"
      ]
    },
    {
      "cell_type": "markdown",
      "id": "NBR25sGzIaqE",
      "metadata": {
        "id": "NBR25sGzIaqE"
      },
      "source": [
        "$$\\text{I am tuning Weight Decay hyperparameter for better performance}$$"
      ]
    },
    {
      "cell_type": "code",
      "execution_count": 15,
      "id": "7Xm_gZhsIaqP",
      "metadata": {
        "id": "7Xm_gZhsIaqP",
        "colab": {
          "base_uri": "https://localhost:8080/",
          "height": 805
        },
        "outputId": "5f35b9a5-8cca-4743-a850-8478a3af9c7f"
      },
      "outputs": [
        {
          "output_type": "stream",
          "name": "stdout",
          "text": [
            "Currently running epoch:  1\n",
            "Currently running epoch:  2\n",
            "Currently running epoch:  3\n",
            "Currently running epoch:  4\n",
            "Currently running epoch:  5\n",
            "Currently running epoch:  1\n",
            "Currently running epoch:  2\n",
            "Currently running epoch:  3\n",
            "Currently running epoch:  4\n",
            "Currently running epoch:  5\n",
            "Currently running epoch:  1\n",
            "Currently running epoch:  2\n",
            "Currently running epoch:  3\n",
            "Currently running epoch:  4\n",
            "Currently running epoch:  5\n",
            "Currently running epoch:  1\n",
            "Currently running epoch:  2\n",
            "Currently running epoch:  3\n",
            "Currently running epoch:  4\n",
            "Currently running epoch:  5\n",
            "Done!\n"
          ]
        },
        {
          "output_type": "display_data",
          "data": {
            "text/plain": [
              "<Figure size 640x480 with 1 Axes>"
            ],
            "image/png": "[encoded data removed]"
          },
          "metadata": {}
        }
      ],
      "source": [
        "############################################################################\n",
        "# TODO: Implement your code here\n",
        "############################################################################\n",
        "learning_rate = 1e-3\n",
        "batch_size = 64\n",
        "epochs = 5\n",
        "momentum = 0\n",
        "weight_decay = [1e-8,1e-7,1e-3,1e-2]\n",
        "dampening = 0\n",
        "\n",
        "# Train and Test\n",
        "test_accs = []\n",
        "test_losses = []\n",
        "training_accs = []\n",
        "\n",
        "for e in weight_decay: #Would change this to reflect whatever hyperparameter you would be testing\n",
        "    # Model\n",
        "    model = CIFAR10Classifier().to(device)\n",
        "    model.requires_grad_(True)\n",
        "    # Optimizer\n",
        "    optimizer = torch.optim.SGD(model.parameters(),\n",
        "                            lr = 1e-3,\n",
        "                            momentum = momentum,\n",
        "                            weight_decay = e,\n",
        "                            dampening= dampening)\n",
        "    # Loss Func\n",
        "    loss_fn = nn.CrossEntropyLoss()\n",
        "    # Dataloaders\n",
        "    train_dataloader = DataLoader(train_data, batch_size=batch_size)\n",
        "    test_dataloader = DataLoader(test_data, batch_size=batch_size)\n",
        "    final_train_acc = 0\n",
        "    final_test_acc = 0\n",
        "    final_test_loss = 0\n",
        "\n",
        "\n",
        "    for t in range(epochs):\n",
        "        print(f\"Currently running epoch: \", t+1)\n",
        "        training_acc = train_loop(train_dataloader, model, loss_fn, optimizer, print_log=False)\n",
        "        testing_acc, test_loss =  test_loop(test_dataloader, model, loss_fn, print_log=False)\n",
        "        final_test_acc = testing_acc\n",
        "        final_test_loss = test_loss\n",
        "        final_train_acc = training_acc\n",
        "\n",
        "\n",
        "    test_accs.append(final_test_acc)\n",
        "    test_losses.append(final_test_loss)\n",
        "    training_accs.append(final_train_acc)\n",
        "\n",
        "\n",
        "plt.plot(weight_decay,test_losses, color ='tab:red', label='testing loss')\n",
        "plt.plot(weight_decay,test_accs, color ='tab:blue', label='testing accuracy')\n",
        "plt.plot(weight_decay,training_accs, color ='tab:green', label='training accuracy')\n",
        "plt.legend()\n",
        "print(\"Done!\")\n",
        "\n",
        "############################################################################\n",
        "#                             END OF YOUR CODE                             #\n",
        "############################################################################"
      ]
    },
    {
      "cell_type": "markdown",
      "id": "RXVjjad0IhZs",
      "metadata": {
        "id": "RXVjjad0IhZs"
      },
      "source": [
        "<font size='4' color='Red'>Task 1.4 - Experiment 3 (2 point)</font>"
      ]
    },
    {
      "cell_type": "markdown",
      "id": "6NZyqrBXIhZs",
      "metadata": {
        "id": "6NZyqrBXIhZs"
      },
      "source": [
        "$$\\text{I am tuning \"momentum\" hyperparameter for better performance}$$"
      ]
    },
    {
      "cell_type": "code",
      "execution_count": null,
      "id": "XytrrMb3IhZs",
      "metadata": {
        "id": "XytrrMb3IhZs",
        "colab": {
          "base_uri": "https://localhost:8080/",
          "height": 896
        },
        "outputId": "7d55341e-650f-46c4-f506-1a01fb65cb0f"
      },
      "outputs": [
        {
          "output_type": "stream",
          "name": "stdout",
          "text": [
            "Currently running epoch:  1\n",
            "Currently running epoch:  2\n",
            "Currently running epoch:  3\n",
            "Currently running epoch:  4\n",
            "Currently running epoch:  5\n",
            "Currently running epoch:  1\n",
            "Currently running epoch:  2\n",
            "Currently running epoch:  3\n",
            "Currently running epoch:  4\n",
            "Currently running epoch:  5\n",
            "Currently running epoch:  1\n",
            "Currently running epoch:  2\n",
            "Currently running epoch:  3\n",
            "Currently running epoch:  4\n",
            "Currently running epoch:  5\n",
            "Currently running epoch:  1\n",
            "Currently running epoch:  2\n",
            "Currently running epoch:  3\n",
            "Currently running epoch:  4\n",
            "Currently running epoch:  5\n",
            "Currently running epoch:  1\n",
            "Currently running epoch:  2\n",
            "Currently running epoch:  3\n",
            "Currently running epoch:  4\n",
            "Currently running epoch:  5\n",
            "Done!\n"
          ]
        },
        {
          "output_type": "display_data",
          "data": {
            "text/plain": [
              "<Figure size 640x480 with 1 Axes>"
            ],
            "image/png": "[encoded data removed]"
          },
          "metadata": {}
        }
      ],
      "source": [
        "############################################################################\n",
        "# TODO: Implement your code here\n",
        "############################################################################\n",
        "learning_rate = 1e-3\n",
        "batch_size = 64\n",
        "epochs = 5\n",
        "momentum = [0.1,0.3,0.5,0.7,0.9]\n",
        "weight_decay = 0\n",
        "dampening = 0\n",
        "\n",
        "# Train and Test\n",
        "test_accs = []\n",
        "test_losses = []\n",
        "training_accs = []\n",
        "\n",
        "for e in momentum: #Would change this to reflect whatever hyperparameter you would be testing\n",
        "    # Model\n",
        "    model = CIFAR10Classifier().to(device)\n",
        "    model.requires_grad_(True)\n",
        "    # Optimizer\n",
        "    optimizer = torch.optim.SGD(model.parameters(),\n",
        "                            lr = 1e-3,\n",
        "                            momentum = e,\n",
        "                            weight_decay = weight_decay,\n",
        "                            dampening= dampening)\n",
        "    # Loss Func\n",
        "    loss_fn = nn.CrossEntropyLoss()\n",
        "    # Dataloaders\n",
        "    train_dataloader = DataLoader(train_data, batch_size=batch_size)\n",
        "    test_dataloader = DataLoader(test_data, batch_size=batch_size)\n",
        "    final_train_acc = 0\n",
        "    final_test_acc = 0\n",
        "    final_test_loss = 0\n",
        "\n",
        "\n",
        "    for t in range(epochs):\n",
        "        print(f\"Currently running epoch: \", t+1)\n",
        "        training_acc = train_loop(train_dataloader, model, loss_fn, optimizer, print_log=False)\n",
        "        testing_acc, test_loss =  test_loop(test_dataloader, model, loss_fn, print_log=False)\n",
        "        final_test_acc = testing_acc\n",
        "        final_test_loss = test_loss\n",
        "        final_train_acc = training_acc\n",
        "\n",
        "\n",
        "    test_accs.append(final_test_acc)\n",
        "    test_losses.append(final_test_loss)\n",
        "    training_accs.append(final_train_acc)\n",
        "\n",
        "\n",
        "plt.plot(momentum,test_losses, color ='tab:red', label='testing loss')\n",
        "plt.plot(momentum,test_accs, color ='tab:blue', label='testing accuracy')\n",
        "plt.plot(momentum,training_accs, color ='tab:green', label='training accuracy')\n",
        "plt.legend()\n",
        "print(\"Done!\")\n",
        "\n",
        "############################################################################\n",
        "#                             END OF YOUR CODE                             #\n",
        "############################################################################"
      ]
    }
  ],
  "metadata": {
    "accelerator": "GPU",
    "colab": {
      "gpuType": "T4",
      "provenance": []
    },
    "kernelspec": {
      "display_name": "Python 3 (ipykernel)",
      "language": "python",
      "name": "python3"
    },
    "language_info": {
      "codemirror_mode": {
        "name": "ipython",
        "version": 3
      },
      "file_extension": ".py",
      "mimetype": "text/x-python",
      "name": "python",
      "nbconvert_exporter": "python",
      "pygments_lexer": "ipython3",
      "version": "3.10.6"
    }
  },
  "nbformat": 4,
  "nbformat_minor": 5
}